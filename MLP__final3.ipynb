{
  "nbformat": 4,
  "nbformat_minor": 0,
  "metadata": {
    "colab": {
      "name": "MLP__final3.ipynb",
      "provenance": [],
      "collapsed_sections": [],
      "toc_visible": true
    },
    "language_info": {
      "codemirror_mode": {
        "name": "ipython",
        "version": 3
      },
      "file_extension": ".py",
      "mimetype": "text/x-python",
      "name": "python",
      "nbconvert_exporter": "python",
      "pygments_lexer": "ipython3",
      "version": "3.6.2"
    },
    "kernelspec": {
      "display_name": "Python 3",
      "language": "python",
      "name": "python3"
    }
  },
  "cells": [
    {
      "cell_type": "markdown",
      "metadata": {
        "colab_type": "text",
        "id": "wwvNLUnptNoU"
      },
      "source": [
        "## Loading the packages"
      ]
    },
    {
      "cell_type": "code",
      "metadata": {
        "colab_type": "code",
        "id": "TYXgP1X5tNoV",
        "colab": {}
      },
      "source": [
        "import numpy as np\n",
        "import matplotlib.pyplot as pl\n",
        "from ipywidgets import interact, widgets\n",
        "from matplotlib import animation\n",
        "import h5py\n",
        "\n",
        "with h5py.File('train_128.h5','r') as H: \n",
        "  data = np.copy(H['data'])\n",
        "with h5py.File('train_label.h5','r') as H:\n",
        "  label = np.copy(H['label'])\n",
        "with h5py.File('test_128.h5','r') as H: \n",
        "  test_data = np.copy(H['data'])\n",
        "  \n",
        "#normlization for thr data\n",
        "mu = data.mean()\n",
        "sigma = data.std()\n",
        "data = (data - mu) / sigma\n",
        "\n",
        "#normlization for the test data\n",
        "test_mu = test_data.mean()\n",
        "test_sigma = test_data.std()\n",
        "test_data = (test_data - test_mu) / test_sigma\n",
        "\n"
      ],
      "execution_count": 0,
      "outputs": []
    },
    {
      "cell_type": "code",
      "metadata": {
        "colab_type": "code",
        "id": "wWng5p5gtNoo",
        "colab": {}
      },
      "source": [
        "class Activation(object):\n",
        "    \n",
        "    def relu (self,x):\n",
        "        return np.maximum(x,0)  \n",
        "\n",
        "    def relu_deriv (self,a):        \n",
        "        a[a>0] = 1\n",
        "        return a\n",
        "    \n",
        "    def softmax (self,x):\n",
        "        output = []\n",
        "        for i in range(x.shape[0]):\n",
        "          sum = np.exp(x[i]-x[i].max()).sum()\n",
        "          T_output = np.exp(x[i]-x[i].max())/sum\n",
        "          output.append(T_output)\n",
        "        return np.array(output)       \n",
        "      \n",
        "    def softmax_deriv (self, a):       \n",
        "        return a * (1 - a )\n",
        "        \n",
        "    def tanh(self, x):\n",
        "        return np.tanh(x)\n",
        "\n",
        "    def tanh_deriv(self, a):\n",
        "        # a = np.tanh(x)   \n",
        "        return 1.0 - a**2\n",
        "    \n",
        "    def logistic(self, x):\n",
        "        return 1.0 / (1.0 + np.exp(-x))\n",
        "\n",
        "    def logistic_deriv(self, a):        \n",
        "        return  a * (1 - a )      \n",
        "            \n",
        "    def __init__(self,activation='relu'):\n",
        "        if activation == 'logistic':\n",
        "            self.f = self.logistic\n",
        "            self.f_deriv = self.logistic_deriv\n",
        "        elif activation == 'softmax':\n",
        "            self.f = self.softmax\n",
        "            self.f_deriv = self.softmax_deriv          \n",
        "        elif activation == 'tanh':\n",
        "            self.f = self.tanh\n",
        "            self.f_deriv = self.tanh_deriv\n",
        "        elif activation == 'relu':\n",
        "            self.f = self.relu\n",
        "            self.f_deriv = self.relu_deriv\n",
        "        "
      ],
      "execution_count": 0,
      "outputs": []
    },
    {
      "cell_type": "code",
      "metadata": {
        "colab_type": "code",
        "id": "NXfsHuBwtNov",
        "colab": {}
      },
      "source": [
        "'''Define class for one hidden layer'''\n",
        "\n",
        "class HiddenLayer(object): \n",
        "    \n",
        "    # To keep the initialised weights and biases stable in across epochs\n",
        "    import random\n",
        "    random.seed(1)\n",
        "    \n",
        "    # Initialisation\n",
        "    def __init__(self,n_in, n_out, mini_batch_size,W=None, b=None, activation=[0,1]):\n",
        "        \"\"\"   \n",
        "        :type n_in: int\n",
        "        :param n_in: dimensionality of input\n",
        "\n",
        "        :type n_out: int\n",
        "        :param n_out: number of hidden units\n",
        "\n",
        "        :type activation: list of string\n",
        "        :param activation: Non linearity to be applied in the hidden\n",
        "                           layer\n",
        "        \"\"\"\n",
        "        self.input=None\n",
        "        self.mini_batch_size = mini_batch_size\n",
        "        self.activation=Activation(activation[0]).f # Current layer's activation function\n",
        "        self.activation_deriv=Activation(activation[1]).f_deriv # Previous layer's derivative activation function\n",
        "        \n",
        "        '''\n",
        "        Initialize W\n",
        "        Weight matrix W is of shape (n_in,n_out)\n",
        "        '''     \n",
        "        # Uniformly sampled with a variance of 2/n_in \n",
        "        if activation[0] == 'relu':\n",
        "            self.W = np.random.uniform(\n",
        "                    low=-np.sqrt(2. / (n_in)), \n",
        "                    high=np.sqrt(2. / (n_in)),\n",
        "                    size=(n_in, n_out)\n",
        "            )\n",
        "            # Uniformly sampled with a variance of 6/(n_in+n_out) \n",
        "        else: \n",
        "            self.W = np.random.uniform(\n",
        "                    low=-np.sqrt(6. / (n_in + n_out)),\n",
        "                    high=np.sqrt(6. / (n_in + n_out)),\n",
        "                    size=(n_in, n_out)\n",
        "            )\n",
        "        # 4 times larger weights for logistic activation \n",
        "        if activation[0] == 'logistic':\n",
        "            self.W *= 4\n",
        "            \n",
        "        '''\n",
        "        Initialize b\n",
        "        The bias vector b is of shape (n_out,)\n",
        "        '''\n",
        "        \n",
        "          \n",
        "        self.b = np.zeros(( self.mini_batch_size, n_out))\n",
        "        \n",
        "        '''\n",
        "        Initialize gamma and beta\n",
        "        The batch normlization parameter gamma and beta is of shape (mini_batch_size, n_out)\n",
        "        '''\n",
        "        self.gamma = np.ones(( self.mini_batch_size, n_out))\n",
        "        self.beta = np.zeros(( self.mini_batch_size, n_out))\n",
        "        \n",
        "        '''\n",
        "        Initialize gredient of gamma and beta\n",
        "        They are of shape gamma and beta\n",
        "        '''\n",
        "        self.grad_gamma = np.zeros(self.gamma.shape)\n",
        "        self.grad_beta = np.zeros(self.beta.shape)\n",
        "             \n",
        "        \n",
        "        ''' Intialise gradients of W,b of same shape as W,b'''\n",
        "        self.grad_W = np.zeros(self.W.shape)\n",
        "        self.grad_b = np.zeros(self.b.shape)\n",
        "        \n",
        "        ''' Intialise velocities of W,b for Momentum & Adam updates, same shape as W,b'''\n",
        "        self.velocity_W = np.zeros(self.W.shape)\n",
        "        self.velocity_b = np.zeros(self.b.shape)\n",
        "        \n",
        "        \n",
        "    def forward(self, input, batchNorm='yes'):\n",
        "        '''\n",
        "        :type input: numpy.array\n",
        "        :input: input data/activations from previous layers\n",
        "        '''\n",
        "        #hidden_layer_input= matrix_dot_product(X,wh) + bh\n",
        "        lin_output = np.dot(input, self.W) + self.b\n",
        "        if batchNorm == 'yes':\n",
        "          lin_output, cache = self.batchNormForward(lin_output, self.gamma, self.beta)\n",
        "          \n",
        "        \n",
        "        self.output = (\n",
        "            lin_output if self.activation is None\n",
        "            else self.activation(lin_output))\n",
        "        \n",
        "        self.input=input\n",
        "        \n",
        "        return self.output, cache\n",
        "    \n",
        "    def batchNormForward(self, input, gamma, beta):\n",
        "        # calculte the mean\n",
        "        mean = np.mean(input, axis=0)\n",
        "        new_input = input - mean\n",
        "        \n",
        "        # calculte the var\n",
        "        var = np.var(input, axis=0)\n",
        "        sqrt_var = np.sqrt(var + 1e-15)\n",
        "        i_var = 1./ sqrt_var  \n",
        "        # batch normlization\n",
        "        input_norm = new_input * i_var        \n",
        "        output = gamma * input_norm + beta\n",
        "        cache = (input_norm, gamma, new_input, i_var, sqrt_var, var)\n",
        "        return output, cache\n",
        "    \n",
        "    '''Backward Propagation'''\n",
        "    def backward(self, delta, learning_rate, cache, batchNorm='yes'):\n",
        "        \n",
        "        self.grad_W = self.input.T.dot(delta)\n",
        "        self.grad_b = delta\n",
        "        \n",
        "        if batchNorm == 'yes':\n",
        "          delta, dgamma, dbeta = self.batchNormBackward(delta, cache)\n",
        "          self.grad_gamma = dgamma\n",
        "          self.grad_beta = dbeta\n",
        "          \n",
        "        \n",
        "        delta_ = delta.dot(self.W.T) * self.activation_deriv(self.input)\n",
        "        \n",
        "        return delta_\n",
        "    \n",
        "    def batchNormBackward(self, dout, cache):\n",
        "      input_norm, gamma, new_input, i_var, sqrt_var, var = cache\n",
        "      \n",
        "      N, D = dout.shape\n",
        "      # back for the dbeta and dgammax\n",
        "      dbeta = np.sum(dout, axis=0)\n",
        "      dgammax = dout\n",
        "      \n",
        "      dgamma = np.sum(dgammax * input_norm, axis=0)\n",
        "      dinputNorm = dgammax * gamma\n",
        "      \n",
        "      divar = np.sum(dinputNorm * new_input, axis=0)\n",
        "      dnewInput_1 = dinputNorm * i_var     \n",
        "      dsqrtvar = -1. / (sqrt_var**2) * divar\n",
        "      \n",
        "      dvar = 0.5 * 1. / np.sqrt(var + 1e-15) * dsqrtvar     \n",
        "      dsq = 1. / N * np.ones((N, D)) * dvar     \n",
        "      dnewInput_2 = 2 * new_input * dsq\n",
        "      \n",
        "      dx1 = (dnewInput_1 + dnewInput_2)\n",
        "      dmean = -1 * np.sum(dnewInput_1 + dnewInput_2, axis=0)     \n",
        "      dx2 = 1. / N * np.ones((N, D)) * dmean     \n",
        "      dx = dx1 + dx2\n",
        "      \n",
        "      return dx, dgamma, dbeta\n",
        "            \n",
        "           \n",
        "    '''Update parameters with momentum'''\n",
        "    def momentum_update(self, learning_rate=0.001, beta=0.9):\n",
        "        \n",
        "        self.velocity_W = beta*self.velocity_W + (1-beta)*self.grad_W\n",
        "        self.velocity_b = beta*self.velocity_b + (1-beta)*self.grad_b\n",
        "        # Update W,b\n",
        "        self.W -= learning_rate * self.velocity_W\n",
        "        self.b -= learning_rate * self.velocity_b \n",
        "        \n",
        "    "
      ],
      "execution_count": 0,
      "outputs": []
    },
    {
      "cell_type": "code",
      "metadata": {
        "colab_type": "code",
        "id": "jkjsauWotNo0",
        "colab": {}
      },
      "source": [
        "'''Define class for the neural network'''\n",
        "\n",
        "class MLP:\n",
        "    \n",
        "    # Initialisation\n",
        "    def __init__(self, layers, activations,mini_batch_size):\n",
        "        \"\"\"\n",
        "        :param layers: A list containing the number of units in each layer.\n",
        "        Should be at least two values\n",
        "        :param activations: The list of activation functions to be used. Can be\n",
        "        \"logistic\", \"tanh\", \"relu\" or \"softmax\n",
        "        \"\"\"        \n",
        "        ### initialize layers\n",
        "        self.layers=[]  \n",
        "        self.activations = activations # activation functions of each layer, index corresponds layer number\n",
        "        self.output_count = layers[-1] # number of output in the output layer\n",
        "        self.params=[]\n",
        "        self.dropout_fraction = 1 # 1 means no dropout, otherwise would be between 0 and 1\n",
        "        self.lamda = 0.1\n",
        "        self.mini_batch_size = mini_batch_size\n",
        "        \n",
        "        # Create hidden layers\n",
        "        for i in range(len(layers)-1):\n",
        "            # Create a new layer with params: number of inputs, outputs, activation of itself and of previous layer\n",
        "            self.layers.append(HiddenLayer(layers[i],layers[i+1],mini_batch_size,activation=[activations[i],activations[i-1]]))   \n",
        "    '''Forward propagation'''\n",
        "    def forward(self,input,predict,batchNorm='yes'):\n",
        "        \"\"\"\n",
        "        :type input: numpy.array\n",
        "        :input: input data/activations from previous layers\n",
        "        :type input: boolean\n",
        "        :predict: True means forward step in prediction, \n",
        "                  False means forward step in training \n",
        "        \"\"\"\n",
        "        cache_array = []\n",
        "        for i in range(len(self.layers)):\n",
        "            output, cache = self.layers[i].forward(input,batchNorm='yes')\n",
        "            \n",
        "            #Apply dropout between hidden layers only\n",
        "            if i > 0 and i < len(self.layers)-1 and not predict: # Dropout in training steps\n",
        "                output = self.dropout(output)\n",
        "            elif predict: # Dropout in predict step \n",
        "                  \n",
        "                 output = output\n",
        "            input=output\n",
        "            cache_array.append(cache)\n",
        "        return output, cache_array\n",
        "    \n",
        "    '''Dropout module'''\n",
        "    \n",
        "    def dropout(self,input):\n",
        "        # Create a random dropout array with given dropout percentage\n",
        "        dropout_array = np.random.binomial(1, self.dropout_fraction, size=input.shape)\n",
        "        input = input * dropout_array\n",
        "        input /= self.dropout_fraction\n",
        "        return input\n",
        "    \n",
        "    '''Mean Squared Error'''\n",
        "    def criterion_MSE(self,y,y_hat):\n",
        "        # Convert y_hat into an array of size 10 consisting of 0,1 (probability of each class)\n",
        "        y_true = np.zeros(y_hat.shape)\n",
        "        y_true[y] = 1\n",
        "        activation_deriv=Activation(self.activations[-1]).f_deriv\n",
        "        # MSE\n",
        "        error = y_true-y_hat\n",
        "        loss=error**2\n",
        "        # write down the delta in the last layer\n",
        "        delta=-error*activation_deriv(y_hat)    \n",
        "        # return loss and delta\n",
        "        return loss,delta\n",
        "      \n",
        "    '''Cross Entropy'''\n",
        "    def cross_entropy_loss(self, y, y_hat):       \n",
        "        y_true = np.zeros(y_hat.shape)\n",
        "        \n",
        "        for i in range(y_hat.shape[0]):\n",
        "          y_true[i, y[i]] = 1\n",
        "    \n",
        "        loss = 0\n",
        "        for i in range(y_hat.shape[0]):\n",
        "          loss = loss - np.log(y_hat[i, y[i]] + 1e-15)\n",
        "        \n",
        "        loss = loss / y_hat.shape[0]\n",
        "        delta = y_hat - y_true \n",
        "        \n",
        "        return loss, delta\n",
        "    \n",
        "    '''Backward propagation'''\n",
        "    def backward(self, delta, cache, learning_rate=0.001, batchNorm='yes'):\n",
        "        size = len(cache)\n",
        "        for layer in reversed(self.layers):           \n",
        "            delta = layer.backward(delta,learning_rate, cache[size-1], batchNorm='yes')\n",
        "            size = size - 1\n",
        "            \n",
        "    '''Gradient Descent parameters W,b updates'''\n",
        "    def update(self, learning_rate, beta1, optimizer=None, weightDecay=\"True\"):\n",
        "        \"\"\"\n",
        "        :learning_rate: learning rate (float)      \n",
        "        :optimizer: Gradient Descent optimizer, can be \"momentum\"or None\n",
        "        \"\"\"\n",
        "        #print(optimizer)\n",
        "        for layer in self.layers:\n",
        "            # Momentum\n",
        "            if optimizer == 'momentum':\n",
        "              \n",
        "                layer.momentum_update(learning_rate,beta1)\n",
        "                if weightDecay == 'True':\n",
        "                  layer.W -= (learning_rate * self.lamda / self.mini_batch_size) * layer.W\n",
        "                \n",
        "                \n",
        "                layer.gamma -= learning_rate * layer.grad_gamma\n",
        "                layer.beta -= learning_rate * layer.grad_beta\n",
        "            \n",
        "            # No optimizer\n",
        "            elif optimizer == None:\n",
        "                \n",
        "                layer.W -= learning_rate * layer.grad_W \n",
        "                layer.b -= learning_rate * layer.grad_b\n",
        "                layer.gamma -= learning_rate * layer.grad_gamma\n",
        "                layer.beta -= learning_rate * layer.grad_beta\n",
        "                \n",
        "    \n",
        "    \n",
        "    '''Fit training data'''\n",
        "    def fit(self,X_train,y_train,X_test,y_test,learning_rate=0.001, beta=0.9, epochs=100, optimizer=None, dropout=1, weightDecay=\"True\",batchNorm='yes'):\n",
        "        \"\"\"\n",
        "        Online learning.\n",
        "        :param X_train: Train data or features\n",
        "        :param y_train: Train targets\n",
        "        :param X_test: Test data or features\n",
        "        :param y_test: Test targets\n",
        "        :param learning_rate: parameters defining the speed of learning\n",
        "        :param epochs: number of times the dataset is presented to the network for learning\n",
        "        :optimizer: Gradient Descent optimizer, can be \"momentum\" or None\n",
        "        :dropout: Dropout fraction between 0 to 1, 1 means no dropout\n",
        "        \"\"\" \n",
        "        # Store dropout fraction\n",
        "        self.dropout_fraction = dropout\n",
        "        # To store test accuracy of each epoch\n",
        "        # To store max test accuracy, min loss and their epoch\n",
        "        # Convert inputs into arrays\n",
        "        X=np.array(X_train)\n",
        "        y=np.array(y_train)\n",
        "        # Array to store the loss of each epoch\n",
        "        to_return = np.zeros(epochs)\n",
        "        accuracy = np.zeros(epochs)\n",
        "        '''Train data for each epoch'''\n",
        "        for k in range(epochs):\n",
        "            # Initialise loss for each training sample\n",
        "            \n",
        "            \n",
        "            times = int(X.shape[0] /  self.mini_batch_size )\n",
        "            loss = np.zeros(times)\n",
        "            \n",
        "            for it in range(times):\n",
        "              i = np.random.randint(times)            \n",
        "              i = i *  self.mini_batch_size   \n",
        "                 \n",
        "              y_hat, cache = self.forward(X[i:i+ self.mini_batch_size ,:],False, batchNorm='yes')\n",
        "              \n",
        "              loss[it],delta=self.cross_entropy_loss(y[i:i+ self.mini_batch_size ], y_hat)\n",
        "              \n",
        "              \n",
        "              self.backward(delta,cache, learning_rate, batchNorm='yes')\n",
        "                #update parameters\n",
        "              self.update(learning_rate,beta,optimizer,weightDecay=\"True\")\n",
        "            # Calculate the mean loss over all training samples\n",
        "            to_return[k] = np.mean(loss) \n",
        "            \n",
        "            '''Calculate and print accuracy, loss in each epoch'''\n",
        "            # Predict on test data\n",
        "            \n",
        "            y_pred_test = self.predict(X_test)\n",
        "            y_pred_test = np.argmax(y_pred_test,axis=1)\n",
        "            \n",
        "            # Predict on train data\n",
        "            y_pred_train = self.predict(X_train)\n",
        "            y_pred_train = np.argmax(y_pred_train,axis=1)\n",
        "            # Print test/train accuracies and loss\n",
        "            accuracy[k] = getAccuracy(y_test, y_pred_test)*100\n",
        "            print('Epoch: {}\\t| Test Accuracy: {:0.2f}% | Train Accuracy: {:0.2f}% | Loss: {:0.4f}'.format(k+1,getAccuracy(y_test, y_pred_test)*100,getAccuracy(y_train, y_pred_train)*100,to_return[k]))\n",
        "            \n",
        "        \n",
        "        # Return loss values of all epochs\n",
        "        return to_return, accuracy\n",
        "    \n",
        "\n",
        "    '''Predict output for test data'''\n",
        "  \n",
        "    \n",
        "    def predict(self, x):\n",
        "        x = np.array(x)\n",
        "        output = np.zeros((x.shape[0],self.output_count))\n",
        "        times = int(x.shape[0] / self.mini_batch_size)\n",
        "        new_times = times * self.mini_batch_size\n",
        "        \n",
        "        for i in range(0,new_times,self.mini_batch_size):\n",
        "           \n",
        "            a,b = nn.forward(x[i:i+self.mini_batch_size,:],True)\n",
        "            output[i:i+self.mini_batch_size],cache = nn.forward(x[i:i+self.mini_batch_size,:],True)               \n",
        "        \n",
        "        return output\n",
        "      "
      ],
      "execution_count": 0,
      "outputs": []
    },
    {
      "cell_type": "code",
      "metadata": {
        "colab_type": "code",
        "id": "3qeVdGfctNo5",
        "colab": {}
      },
      "source": [
        "'''Calculate accuracy between predict and true outputs'''\n",
        "def getAccuracy(y_true, y_pred):\n",
        "    correct = np.sum(y_true == y_pred)\n",
        "    return (correct/float(len(y_true)))"
      ],
      "execution_count": 0,
      "outputs": []
    },
    {
      "cell_type": "code",
      "metadata": {
        "colab_type": "code",
        "id": "HGCP9hDetNo8",
        "outputId": "14f54c58-2686-455d-8ab6-11554dc214c9",
        "colab": {
          "base_uri": "https://localhost:8080/",
          "height": 374
        }
      },
      "source": [
        "%%time\n",
        "\n",
        "'''Define training and test data of ratio 9:1'''\n",
        "# Train\n",
        "x_train = data[0:48000,:]\n",
        "y_train = label[0:48000]\n",
        "# Test\n",
        "x_test = data[48000:60000,:]\n",
        "y_test = label[48000:60000]\n",
        "#accuracy = []\n",
        "'''Initialise the proposed neural network'''\n",
        "nn = MLP([128,256,512,128,10],['relu','relu','relu','relu','softmax'],mini_batch_size=200)\n",
        "\n",
        "'''Fit data to train the model'''\n",
        "loss, accuracy= nn.fit(x_train, y_train, x_test, y_test, learning_rate=0.01, beta=0.9, epochs=19, optimizer='momentum', dropout=1, weightDecay=\"False\", batchNorm='no') \n",
        "\n"
      ],
      "execution_count": 0,
      "outputs": [
        {
          "output_type": "stream",
          "text": [
            "Epoch: 1\t| Test Accuracy: 85.72% | Train Accuracy: 86.84% | Loss: 1.5447\n",
            "Epoch: 2\t| Test Accuracy: 86.86% | Train Accuracy: 88.50% | Loss: 0.8071\n",
            "Epoch: 3\t| Test Accuracy: 87.69% | Train Accuracy: 89.53% | Loss: 0.7223\n",
            "Epoch: 4\t| Test Accuracy: 88.32% | Train Accuracy: 90.84% | Loss: 0.6254\n",
            "Epoch: 5\t| Test Accuracy: 87.98% | Train Accuracy: 90.99% | Loss: 0.5871\n",
            "Epoch: 6\t| Test Accuracy: 88.62% | Train Accuracy: 91.99% | Loss: 0.5362\n",
            "Epoch: 7\t| Test Accuracy: 89.16% | Train Accuracy: 92.69% | Loss: 0.5044\n",
            "Epoch: 8\t| Test Accuracy: 88.96% | Train Accuracy: 92.74% | Loss: 0.4388\n",
            "Epoch: 9\t| Test Accuracy: 89.08% | Train Accuracy: 93.38% | Loss: 0.4276\n",
            "Epoch: 10\t| Test Accuracy: 89.25% | Train Accuracy: 93.83% | Loss: 0.3872\n",
            "Epoch: 11\t| Test Accuracy: 89.14% | Train Accuracy: 93.99% | Loss: 0.3655\n",
            "Epoch: 12\t| Test Accuracy: 89.40% | Train Accuracy: 94.78% | Loss: 0.3433\n",
            "Epoch: 13\t| Test Accuracy: 89.07% | Train Accuracy: 95.11% | Loss: 0.3468\n",
            "Epoch: 14\t| Test Accuracy: 88.63% | Train Accuracy: 94.93% | Loss: 0.2852\n",
            "Epoch: 15\t| Test Accuracy: 89.10% | Train Accuracy: 95.59% | Loss: 0.2564\n",
            "Epoch: 16\t| Test Accuracy: 89.12% | Train Accuracy: 95.69% | Loss: 0.2523\n",
            "Epoch: 17\t| Test Accuracy: 89.31% | Train Accuracy: 96.25% | Loss: 0.2376\n",
            "Epoch: 18\t| Test Accuracy: 89.23% | Train Accuracy: 96.03% | Loss: 0.2399\n",
            "Epoch: 19\t| Test Accuracy: 89.46% | Train Accuracy: 96.86% | Loss: 0.2240\n",
            "CPU times: user 6min 22s, sys: 2min 23s, total: 8min 46s\n",
            "Wall time: 4min 25s\n"
          ],
          "name": "stdout"
        }
      ]
    },
    {
      "cell_type": "markdown",
      "metadata": {
        "colab_type": "text",
        "id": "Onvx6wpNtNo_"
      },
      "source": [
        "# Plot Model Accuracy "
      ]
    },
    {
      "cell_type": "code",
      "metadata": {
        "colab_type": "code",
        "id": "N0mct_O4tNpA",
        "outputId": "93c252e0-8f46-47c7-dd03-ff35161e6655",
        "colab": {
          "base_uri": "https://localhost:8080/",
          "height": 295
        }
      },
      "source": [
        "\n",
        "import matplotlib.pyplot as plt\n",
        "import matplotlib.ticker as ticker\n",
        "epoch = np.arange(20)\n",
        "epoch = np.delete(epoch, 0)\n",
        "\n",
        "\n",
        "fig, ax = plt.subplots()\n",
        "ax.plot(epoch,accuracy,'k--',label=\"accuracy\",color=\"red\")\n",
        "for axis in [ax.xaxis, ax.yaxis]:\n",
        "    axis.set_major_locator(ticker.MaxNLocator(integer=True))\n",
        "\n",
        "\n",
        "legend = ax.legend(loc='center',shadow=True, fontsize='x-large')\n",
        "\n",
        "legend.get_frame().set_facecolor('C0')\n",
        "\n",
        "plt.xlabel(\"epoch\")\n",
        "plt.ylabel(\"accuracy\")\n",
        "plt.title(\"epoch vs accuracy\")\n",
        "plt.savefig(\"data1\")\n",
        "plt.show()"
      ],
      "execution_count": 0,
      "outputs": [
        {
          "output_type": "display_data",
          "data": {
            "image/png": "[encoded data removed]",
            "text/plain": [
              "<Figure size 432x288 with 1 Axes>"
            ]
          },
          "metadata": {
            "tags": []
          }
        }
      ]
    },
    {
      "cell_type": "markdown",
      "metadata": {
        "colab_type": "text",
        "id": "qTCmkspmtNpG"
      },
      "source": [
        "## Plot Model Loss"
      ]
    },
    {
      "cell_type": "code",
      "metadata": {
        "colab_type": "code",
        "id": "iFexV1u3tNpI",
        "outputId": "5cffb588-d643-4556-bd56-2ff01cc39860",
        "colab": {
          "base_uri": "https://localhost:8080/",
          "height": 295
        }
      },
      "source": [
        "fig, ax = plt.subplots()\n",
        "ax.plot(epoch,loss,'k--',label=\"loss\",color=\"red\")\n",
        "for axis in [ax.xaxis, ax.yaxis]:\n",
        "    axis.set_major_locator(ticker.MaxNLocator(integer=True))\n",
        "\n",
        "\n",
        "legend = ax.legend(loc='center',shadow=True, fontsize='x-large')\n",
        "\n",
        "legend.get_frame().set_facecolor('C0')\n",
        "\n",
        "plt.xlabel(\"epoch\")\n",
        "plt.ylabel(\"loss\")\n",
        "plt.title(\"epoch vs loss\")\n",
        "plt.savefig(\"data2\")\n",
        "plt.show()"
      ],
      "execution_count": 0,
      "outputs": [
        {
          "output_type": "display_data",
          "data": {
            "image/png": "[encoded data removed]",
            "text/plain": [
              "<Figure size 432x288 with 1 Axes>"
            ]
          },
          "metadata": {
            "tags": []
          }
        }
      ]
    },
    {
      "cell_type": "markdown",
      "metadata": {
        "colab_type": "text",
        "id": "QVt6OAF3Qmwp"
      },
      "source": [
        "# Plot Model loss by Different optimizer"
      ]
    },
    {
      "cell_type": "code",
      "metadata": {
        "colab_type": "code",
        "id": "tkO_SyQFtNpO",
        "outputId": "b52f445d-30f2-4531-94c0-a1491ce3418b",
        "colab": {
          "base_uri": "https://localhost:8080/",
          "height": 374
        }
      },
      "source": [
        "%%time\n",
        "\n",
        "\n",
        "'''Initialise the proposed neural network'''\n",
        "nn = MLP([128,256,512,128,10],['relu','relu','relu','relu','softmax'],mini_batch_size=200)\n",
        "\n",
        "'''Fit data to train the model'''\n",
        "lossNO, accuracyNO= nn.fit(x_train, y_train, x_test, y_test, learning_rate=0.01, beta=0.9, epochs=19, optimizer=None, dropout=1,weightDecay=\"False\", batchNorm='yes') \n",
        "\n"
      ],
      "execution_count": 0,
      "outputs": [
        {
          "output_type": "stream",
          "text": [
            "Epoch: 1\t| Test Accuracy: 82.09% | Train Accuracy: 83.19% | Loss: 2.1152\n",
            "Epoch: 2\t| Test Accuracy: 85.05% | Train Accuracy: 86.33% | Loss: 1.2051\n",
            "Epoch: 3\t| Test Accuracy: 83.81% | Train Accuracy: 85.49% | Loss: 1.0138\n",
            "Epoch: 4\t| Test Accuracy: 87.28% | Train Accuracy: 89.80% | Loss: 0.8702\n",
            "Epoch: 5\t| Test Accuracy: 86.72% | Train Accuracy: 89.49% | Loss: 0.7671\n",
            "Epoch: 6\t| Test Accuracy: 87.83% | Train Accuracy: 90.38% | Loss: 0.7376\n",
            "Epoch: 7\t| Test Accuracy: 88.15% | Train Accuracy: 91.56% | Loss: 0.6482\n",
            "Epoch: 8\t| Test Accuracy: 88.18% | Train Accuracy: 91.71% | Loss: 0.6245\n",
            "Epoch: 9\t| Test Accuracy: 86.52% | Train Accuracy: 90.54% | Loss: 0.6111\n",
            "Epoch: 10\t| Test Accuracy: 88.70% | Train Accuracy: 92.84% | Loss: 0.5488\n",
            "Epoch: 11\t| Test Accuracy: 88.58% | Train Accuracy: 93.07% | Loss: 0.5290\n",
            "Epoch: 12\t| Test Accuracy: 88.50% | Train Accuracy: 93.09% | Loss: 0.4917\n",
            "Epoch: 13\t| Test Accuracy: 89.09% | Train Accuracy: 93.82% | Loss: 0.4225\n",
            "Epoch: 14\t| Test Accuracy: 87.80% | Train Accuracy: 92.58% | Loss: 0.4469\n",
            "Epoch: 15\t| Test Accuracy: 88.84% | Train Accuracy: 94.51% | Loss: 0.4176\n",
            "Epoch: 16\t| Test Accuracy: 88.83% | Train Accuracy: 94.16% | Loss: 0.3743\n",
            "Epoch: 17\t| Test Accuracy: 88.71% | Train Accuracy: 94.63% | Loss: 0.3746\n",
            "Epoch: 18\t| Test Accuracy: 88.44% | Train Accuracy: 94.85% | Loss: 0.3429\n",
            "Epoch: 19\t| Test Accuracy: 88.28% | Train Accuracy: 94.33% | Loss: 0.3223\n",
            "CPU times: user 6min 10s, sys: 2min 12s, total: 8min 23s\n",
            "Wall time: 4min 13s\n"
          ],
          "name": "stdout"
        }
      ]
    },
    {
      "cell_type": "code",
      "metadata": {
        "id": "wnZt45wRHfp3",
        "colab_type": "code",
        "outputId": "f280feb6-4707-4444-f6cc-3c5e8037e81f",
        "colab": {
          "base_uri": "https://localhost:8080/",
          "height": 295
        }
      },
      "source": [
        "fig, ax = plt.subplots()\n",
        "ax.plot(epoch,loss,'k--',label=\"loss\",color=\"red\")\n",
        "ax.plot(epoch,lossNO,'k',label=\"loss without momentum\",color=\"blue\")\n",
        "for axis in [ax.xaxis, ax.yaxis]:\n",
        "    axis.set_major_locator(ticker.MaxNLocator(integer=True))\n",
        "\n",
        "\n",
        "legend = ax.legend(loc='center',shadow=True, fontsize='x-large')\n",
        "\n",
        "legend.get_frame().set_facecolor('C0')\n",
        "\n",
        "plt.xlabel(\"epoch\")\n",
        "plt.ylabel(\"loss\")\n",
        "plt.title(\"epoch vs loss\")\n",
        "plt.savefig(\"data3\")\n",
        "plt.show()"
      ],
      "execution_count": 0,
      "outputs": [
        {
          "output_type": "display_data",
          "data": {
            "image/png": "[encoded data removed]",
            "text/plain": [
              "<Figure size 432x288 with 1 Axes>"
            ]
          },
          "metadata": {
            "tags": []
          }
        }
      ]
    },
    {
      "cell_type": "markdown",
      "metadata": {
        "colab_type": "text",
        "id": "ikymNk5PRBQn"
      },
      "source": [
        "#Plot Model Accuracy by Different optimizer"
      ]
    },
    {
      "cell_type": "code",
      "metadata": {
        "colab_type": "code",
        "id": "HH9yjim-tNpS",
        "outputId": "f7189be4-d93a-4f6e-fe39-f38f7c69e1b6",
        "colab": {
          "base_uri": "https://localhost:8080/",
          "height": 295
        }
      },
      "source": [
        "fig, ax = plt.subplots()\n",
        "ax.plot(epoch,accuracy,'k--',label=\"accuracy\",color=\"red\")\n",
        "ax.plot(epoch,accuracyNO,'k',label=\"accuracy without momentum\",color=\"blue\")\n",
        "for axis in [ax.xaxis, ax.yaxis]:\n",
        "    axis.set_major_locator(ticker.MaxNLocator(integer=True))\n",
        "\n",
        "\n",
        "legend = ax.legend(loc='center',shadow=True, fontsize='x-large')\n",
        "\n",
        "legend.get_frame().set_facecolor('C0')\n",
        "\n",
        "plt.xlabel(\"epoch\")\n",
        "plt.ylabel(\"accuracy\")\n",
        "plt.title(\"epoch vs accuracy\")\n",
        "plt.savefig(\"data4\")\n",
        "plt.show()\n"
      ],
      "execution_count": 0,
      "outputs": [
        {
          "output_type": "display_data",
          "data": {
            "image/png": "[encoded data removed]",
            "text/plain": [
              "<Figure size 432x288 with 1 Axes>"
            ]
          },
          "metadata": {
            "tags": []
          }
        }
      ]
    },
    {
      "cell_type": "markdown",
      "metadata": {
        "colab_type": "text",
        "id": "i-5KbcVsRNnF"
      },
      "source": [
        "#  Plot Model Accuracy by different dropout"
      ]
    },
    {
      "cell_type": "code",
      "metadata": {
        "colab_type": "code",
        "id": "RtFplcUaRibX",
        "outputId": "19bfddbb-52f8-4daa-cbc7-f73b15bfa9fb",
        "colab": {
          "base_uri": "https://localhost:8080/",
          "height": 374
        }
      },
      "source": [
        "%%time\n",
        "'''Initialise the proposed neural network'''\n",
        "nn = MLP([128,256,512,128,10],['relu','relu','relu','relu','softmax'],mini_batch_size=200)\n",
        "\n",
        "'''Fit data to train the model'''\n",
        "loss_drop1, accuracy_drop1= nn.fit(x_train, y_train, x_test, y_test, learning_rate=0.01, beta=0.9, epochs=19, optimizer=\"momentum\", dropout=0.9,weightDecay=\"False\", batchNorm='yes') "
      ],
      "execution_count": 0,
      "outputs": [
        {
          "output_type": "stream",
          "text": [
            "Epoch: 1\t| Test Accuracy: 85.74% | Train Accuracy: 86.65% | Loss: 1.6193\n",
            "Epoch: 2\t| Test Accuracy: 87.04% | Train Accuracy: 87.98% | Loss: 0.8895\n",
            "Epoch: 3\t| Test Accuracy: 87.78% | Train Accuracy: 89.31% | Loss: 0.8215\n",
            "Epoch: 4\t| Test Accuracy: 87.63% | Train Accuracy: 89.77% | Loss: 0.6969\n",
            "Epoch: 5\t| Test Accuracy: 87.72% | Train Accuracy: 90.27% | Loss: 0.6462\n",
            "Epoch: 6\t| Test Accuracy: 88.64% | Train Accuracy: 90.89% | Loss: 0.6453\n",
            "Epoch: 7\t| Test Accuracy: 88.76% | Train Accuracy: 91.51% | Loss: 0.5862\n",
            "Epoch: 8\t| Test Accuracy: 88.72% | Train Accuracy: 91.88% | Loss: 0.5752\n",
            "Epoch: 9\t| Test Accuracy: 88.98% | Train Accuracy: 92.29% | Loss: 0.5462\n",
            "Epoch: 10\t| Test Accuracy: 88.79% | Train Accuracy: 92.60% | Loss: 0.5158\n",
            "Epoch: 11\t| Test Accuracy: 88.93% | Train Accuracy: 92.70% | Loss: 0.5021\n",
            "Epoch: 12\t| Test Accuracy: 89.31% | Train Accuracy: 93.46% | Loss: 0.5062\n",
            "Epoch: 13\t| Test Accuracy: 89.20% | Train Accuracy: 93.54% | Loss: 0.4316\n",
            "Epoch: 14\t| Test Accuracy: 88.93% | Train Accuracy: 93.59% | Loss: 0.4446\n",
            "Epoch: 15\t| Test Accuracy: 89.27% | Train Accuracy: 94.21% | Loss: 0.4172\n",
            "Epoch: 16\t| Test Accuracy: 88.96% | Train Accuracy: 94.19% | Loss: 0.3887\n",
            "Epoch: 17\t| Test Accuracy: 89.17% | Train Accuracy: 94.18% | Loss: 0.3910\n",
            "Epoch: 18\t| Test Accuracy: 89.13% | Train Accuracy: 94.15% | Loss: 0.3844\n",
            "Epoch: 19\t| Test Accuracy: 89.06% | Train Accuracy: 94.93% | Loss: 0.3689\n",
            "CPU times: user 6min 33s, sys: 2min 24s, total: 8min 57s\n",
            "Wall time: 4min 31s\n"
          ],
          "name": "stdout"
        }
      ]
    },
    {
      "cell_type": "code",
      "metadata": {
        "id": "Mp_HGlXjL53h",
        "colab_type": "code",
        "colab": {}
      },
      "source": [
        ""
      ],
      "execution_count": 0,
      "outputs": []
    },
    {
      "cell_type": "code",
      "metadata": {
        "id": "RKynl1giMmFu",
        "colab_type": "code",
        "outputId": "69469e74-168a-43d2-c09c-42e729812aa4",
        "colab": {
          "base_uri": "https://localhost:8080/",
          "height": 374
        }
      },
      "source": [
        "%%time\n",
        "'''Initialise the proposed neural network'''\n",
        "nn = MLP([128,256,512,128,10],['relu','relu','relu','relu','softmax'],mini_batch_size=200)\n",
        "\n",
        "'''Fit data to train the model'''\n",
        "loss_drop3, accuracy_drop3= nn.fit(x_train, y_train, x_test, y_test, learning_rate=0.01, beta=0.9, epochs=19, optimizer=\"momentum\", dropout=0.6,weightDecay=\"False\", batchNorm='yes') "
      ],
      "execution_count": 0,
      "outputs": [
        {
          "output_type": "stream",
          "text": [
            "Epoch: 1\t| Test Accuracy: 82.72% | Train Accuracy: 83.36% | Loss: 2.0872\n",
            "Epoch: 2\t| Test Accuracy: 85.45% | Train Accuracy: 86.16% | Loss: 1.2141\n",
            "Epoch: 3\t| Test Accuracy: 85.64% | Train Accuracy: 87.09% | Loss: 1.0710\n",
            "Epoch: 4\t| Test Accuracy: 86.49% | Train Accuracy: 87.99% | Loss: 0.9790\n",
            "Epoch: 5\t| Test Accuracy: 87.21% | Train Accuracy: 88.48% | Loss: 0.9830\n",
            "Epoch: 6\t| Test Accuracy: 87.49% | Train Accuracy: 88.99% | Loss: 0.9349\n",
            "Epoch: 7\t| Test Accuracy: 87.72% | Train Accuracy: 89.33% | Loss: 0.8585\n",
            "Epoch: 8\t| Test Accuracy: 87.85% | Train Accuracy: 89.59% | Loss: 0.8559\n",
            "Epoch: 9\t| Test Accuracy: 88.24% | Train Accuracy: 89.72% | Loss: 0.8246\n",
            "Epoch: 10\t| Test Accuracy: 87.88% | Train Accuracy: 90.03% | Loss: 0.7898\n",
            "Epoch: 11\t| Test Accuracy: 87.99% | Train Accuracy: 90.21% | Loss: 0.7872\n",
            "Epoch: 12\t| Test Accuracy: 88.10% | Train Accuracy: 90.66% | Loss: 0.7427\n",
            "Epoch: 13\t| Test Accuracy: 88.29% | Train Accuracy: 90.88% | Loss: 0.7748\n",
            "Epoch: 14\t| Test Accuracy: 88.61% | Train Accuracy: 91.05% | Loss: 0.7214\n",
            "Epoch: 15\t| Test Accuracy: 88.52% | Train Accuracy: 91.18% | Loss: 0.7467\n",
            "Epoch: 16\t| Test Accuracy: 88.71% | Train Accuracy: 91.49% | Loss: 0.7020\n",
            "Epoch: 17\t| Test Accuracy: 88.84% | Train Accuracy: 91.61% | Loss: 0.6903\n",
            "Epoch: 18\t| Test Accuracy: 88.89% | Train Accuracy: 91.87% | Loss: 0.6539\n",
            "Epoch: 19\t| Test Accuracy: 88.92% | Train Accuracy: 92.21% | Loss: 0.6850\n",
            "CPU times: user 6min 30s, sys: 2min 23s, total: 8min 54s\n",
            "Wall time: 4min 29s\n"
          ],
          "name": "stdout"
        }
      ]
    },
    {
      "cell_type": "code",
      "metadata": {
        "id": "y_gdFhs3LkIv",
        "colab_type": "code",
        "outputId": "546eaebe-6faa-4030-8e40-170bb1934d96",
        "colab": {
          "base_uri": "https://localhost:8080/",
          "height": 295
        }
      },
      "source": [
        "fig, ax = plt.subplots()\n",
        "ax.plot(epoch,accuracy,'k',label=\"accuracy\",color=\"red\")\n",
        "ax.plot(epoch,accuracy_drop1,'k',label=\"accuracy with dropout 0.9\",color=\"blue\")\n",
        "ax.plot(epoch,accuracy_drop3,'k',label=\"accuracy with dropout 0.6\",color=\"yellow\")\n",
        "for axis in [ax.xaxis, ax.yaxis]:\n",
        "    axis.set_major_locator(ticker.MaxNLocator(integer=True))\n",
        "\n",
        "\n",
        "legend = ax.legend(loc='center right',shadow=True, fontsize='x-large')\n",
        "\n",
        "legend.get_frame().set_facecolor('C0')\n",
        "\n",
        "plt.xlabel(\"epoch\")\n",
        "plt.ylabel(\"accuracy\")\n",
        "plt.title(\"epoch vs accuracy\")\n",
        "plt.savefig(\"data5\")\n",
        "plt.show()"
      ],
      "execution_count": 0,
      "outputs": [
        {
          "output_type": "display_data",
          "data": {
            "image/png": "[encoded data removed]",
            "text/plain": [
              "<Figure size 432x288 with 1 Axes>"
            ]
          },
          "metadata": {
            "tags": []
          }
        }
      ]
    },
    {
      "cell_type": "markdown",
      "metadata": {
        "id": "FxxFKZNVPRLc",
        "colab_type": "text"
      },
      "source": [
        "#Plot Model loss by different dropout"
      ]
    },
    {
      "cell_type": "code",
      "metadata": {
        "id": "5X8tAWo7OaLB",
        "colab_type": "code",
        "outputId": "b860994c-7f3e-4df5-d559-2c86b5f23313",
        "colab": {
          "base_uri": "https://localhost:8080/",
          "height": 295
        }
      },
      "source": [
        "fig, ax = plt.subplots()\n",
        "ax.plot(epoch,loss,'k',label=\"loss\",color=\"red\")\n",
        "ax.plot(epoch,loss_drop1,'k',label=\"loss with dropout 0.9\",color=\"blue\")\n",
        "ax.plot(epoch,loss_drop3,'k',label=\"loss with dropout 0.6\",color=\"yellow\")\n",
        "for axis in [ax.xaxis, ax.yaxis]:\n",
        "    axis.set_major_locator(ticker.MaxNLocator(integer=True))\n",
        "\n",
        "\n",
        "legend = ax.legend(loc='center right',shadow=True, fontsize='x-large')\n",
        "\n",
        "legend.get_frame().set_facecolor('C0')\n",
        "\n",
        "plt.xlabel(\"epoch\")\n",
        "plt.ylabel(\"loss\")\n",
        "plt.title(\"epoch vs loss\")\n",
        "plt.savefig(\"data6\")\n",
        "plt.show()"
      ],
      "execution_count": 0,
      "outputs": [
        {
          "output_type": "display_data",
          "data": {
            "image/png": "[encoded data removed]",
            "text/plain": [
              "<Figure size 432x288 with 1 Axes>"
            ]
          },
          "metadata": {
            "tags": []
          }
        }
      ]
    },
    {
      "cell_type": "markdown",
      "metadata": {
        "colab_type": "text",
        "id": "6qBvN4qCRkBy"
      },
      "source": [
        "#Plot Model accuracy by different mini batch size"
      ]
    },
    {
      "cell_type": "code",
      "metadata": {
        "colab_type": "code",
        "id": "GbW-mgMFRkoE",
        "colab": {}
      },
      "source": [
        ""
      ],
      "execution_count": 0,
      "outputs": []
    },
    {
      "cell_type": "code",
      "metadata": {
        "id": "4MzDvENsSPjz",
        "colab_type": "code",
        "outputId": "aeb87a51-62bd-4cde-d185-2d5a6a2a28c4",
        "colab": {
          "base_uri": "https://localhost:8080/",
          "height": 221
        }
      },
      "source": [
        "%%time\n",
        "'''Initialise the proposed neural network'''\n",
        "nn = MLP([128,256,512,256,10],['relu','relu','relu','relu','softmax'],mini_batch_size=32)\n",
        "\n",
        "'''Fit data to train the model'''\n",
        "loss_size32, accuracy_size32= nn.fit(x_train, y_train, x_test, y_test, learning_rate=0.01, beta=0.9, epochs=10, optimizer=\"momentum\", dropout=1,weightDecay=\"False\", batchNorm='yes') "
      ],
      "execution_count": 0,
      "outputs": [
        {
          "output_type": "stream",
          "text": [
            "Epoch: 1\t| Test Accuracy: 84.09% | Train Accuracy: 85.75% | Loss: 1.2577\n",
            "Epoch: 2\t| Test Accuracy: 84.88% | Train Accuracy: 86.96% | Loss: 0.9098\n",
            "Epoch: 3\t| Test Accuracy: 85.67% | Train Accuracy: 88.84% | Loss: 0.8349\n",
            "Epoch: 4\t| Test Accuracy: 86.32% | Train Accuracy: 89.22% | Loss: 0.7705\n",
            "Epoch: 5\t| Test Accuracy: 86.63% | Train Accuracy: 89.93% | Loss: 0.7344\n",
            "Epoch: 6\t| Test Accuracy: 87.02% | Train Accuracy: 90.34% | Loss: 0.6868\n",
            "Epoch: 7\t| Test Accuracy: 86.90% | Train Accuracy: 91.07% | Loss: 0.6448\n",
            "Epoch: 8\t| Test Accuracy: 86.83% | Train Accuracy: 91.10% | Loss: 0.6259\n",
            "Epoch: 9\t| Test Accuracy: 86.93% | Train Accuracy: 91.64% | Loss: 0.5995\n",
            "Epoch: 10\t| Test Accuracy: 87.35% | Train Accuracy: 91.80% | Loss: 0.5708\n",
            "CPU times: user 5min 32s, sys: 2min 27s, total: 7min 59s\n",
            "Wall time: 4min 1s\n"
          ],
          "name": "stdout"
        }
      ]
    },
    {
      "cell_type": "code",
      "metadata": {
        "id": "g7iGTAWKS_e3",
        "colab_type": "code",
        "outputId": "fcef65cf-754f-4ac0-c71e-39a08c0f82ea",
        "colab": {
          "base_uri": "https://localhost:8080/",
          "height": 221
        }
      },
      "source": [
        "%%time\n",
        "'''Initialise the proposed neural network'''\n",
        "nn = MLP([128,256,512,256,10],['relu','relu','relu','relu','softmax'],mini_batch_size=200)\n",
        "\n",
        "'''Fit data to train the model'''\n",
        "loss_size200, accuracy_size200= nn.fit(x_train, y_train, x_test, y_test, learning_rate=0.01, beta=0.9, epochs=10, optimizer=\"momentum\", dropout=1,weightDecay=\"False\", batchNorm='yes') "
      ],
      "execution_count": 0,
      "outputs": [
        {
          "output_type": "stream",
          "text": [
            "Epoch: 1\t| Test Accuracy: 86.30% | Train Accuracy: 87.33% | Loss: 1.5206\n",
            "Epoch: 2\t| Test Accuracy: 86.70% | Train Accuracy: 88.38% | Loss: 0.7901\n",
            "Epoch: 3\t| Test Accuracy: 87.61% | Train Accuracy: 90.13% | Loss: 0.7057\n",
            "Epoch: 4\t| Test Accuracy: 88.01% | Train Accuracy: 90.82% | Loss: 0.6071\n",
            "Epoch: 5\t| Test Accuracy: 88.25% | Train Accuracy: 90.92% | Loss: 0.5677\n",
            "Epoch: 6\t| Test Accuracy: 88.33% | Train Accuracy: 92.30% | Loss: 0.5270\n",
            "Epoch: 7\t| Test Accuracy: 88.56% | Train Accuracy: 92.27% | Loss: 0.4756\n",
            "Epoch: 8\t| Test Accuracy: 88.26% | Train Accuracy: 92.83% | Loss: 0.4653\n",
            "Epoch: 9\t| Test Accuracy: 88.38% | Train Accuracy: 93.09% | Loss: 0.4186\n",
            "Epoch: 10\t| Test Accuracy: 88.69% | Train Accuracy: 94.33% | Loss: 0.4015\n",
            "CPU times: user 4min 8s, sys: 1min 28s, total: 5min 37s\n",
            "Wall time: 2min 50s\n"
          ],
          "name": "stdout"
        }
      ]
    },
    {
      "cell_type": "code",
      "metadata": {
        "id": "fWCL30xVTr6n",
        "colab_type": "code",
        "outputId": "bc319a9c-0a93-451f-c3d4-139bab39efa7",
        "colab": {
          "base_uri": "https://localhost:8080/",
          "height": 221
        }
      },
      "source": [
        "%%time\n",
        "'''Initialise the proposed neural network'''\n",
        "nn = MLP([128,256,512,256,10],['relu','relu','relu','relu','softmax'],mini_batch_size=512)\n",
        "\n",
        "'''Fit data to train the model'''\n",
        "loss_size512, accuracy_size512= nn.fit(x_train, y_train, x_test, y_test, learning_rate=0.01, beta=0.9, epochs=10, optimizer=\"momentum\", dropout=1,weightDecay=\"False\", batchNorm='yes') "
      ],
      "execution_count": 0,
      "outputs": [
        {
          "output_type": "stream",
          "text": [
            "Epoch: 1\t| Test Accuracy: 79.06% | Train Accuracy: 80.34% | Loss: 7.4769\n",
            "Epoch: 2\t| Test Accuracy: 73.24% | Train Accuracy: 74.75% | Loss: 3.8441\n",
            "Epoch: 3\t| Test Accuracy: 82.27% | Train Accuracy: 84.22% | Loss: 3.7807\n",
            "Epoch: 4\t| Test Accuracy: 82.69% | Train Accuracy: 84.82% | Loss: 4.2644\n",
            "Epoch: 5\t| Test Accuracy: 84.92% | Train Accuracy: 87.05% | Loss: 3.9250\n",
            "Epoch: 6\t| Test Accuracy: 85.42% | Train Accuracy: 88.21% | Loss: 1.6985\n",
            "Epoch: 7\t| Test Accuracy: 86.33% | Train Accuracy: 88.97% | Loss: 1.0593\n",
            "Epoch: 8\t| Test Accuracy: 86.43% | Train Accuracy: 89.42% | Loss: 1.0820\n",
            "Epoch: 9\t| Test Accuracy: 85.14% | Train Accuracy: 88.11% | Loss: 0.9525\n",
            "Epoch: 10\t| Test Accuracy: 85.88% | Train Accuracy: 89.06% | Loss: 0.9629\n",
            "CPU times: user 3min 48s, sys: 1min 21s, total: 5min 10s\n",
            "Wall time: 2min 36s\n"
          ],
          "name": "stdout"
        }
      ]
    },
    {
      "cell_type": "code",
      "metadata": {
        "id": "iqoNE7_hWlbv",
        "colab_type": "code",
        "outputId": "75c4fdd1-cf4f-47e6-e1c0-63eddf7376b5",
        "colab": {
          "base_uri": "https://localhost:8080/",
          "height": 295
        }
      },
      "source": [
        "fig, ax = plt.subplots()\n",
        "epoch = np.arange(11)\n",
        "epoch = np.delete(epoch, 0)\n",
        "ax.plot(epoch,accuracy_size200,'k',label=\"accuracy with size 200\",color=\"red\")\n",
        "\n",
        "ax.plot(epoch,accuracy_size32,'k',label=\"accuracy with size 32\",color=\"green\")\n",
        "\n",
        "ax.plot(epoch,accuracy_size512,'k',label=\"accuracy with size 500\",color=\"orange\")\n",
        "for axis in [ax.xaxis, ax.yaxis]:\n",
        "    axis.set_major_locator(ticker.MaxNLocator(integer=True))\n",
        "\n",
        "\n",
        "legend = ax.legend(loc='lower center',shadow=True, fontsize='x-large')\n",
        "\n",
        "legend.get_frame().set_facecolor('C0')\n",
        "\n",
        "plt.xlabel(\"epoch\")\n",
        "plt.ylabel(\"accuracy\")\n",
        "plt.title(\"epoch vs accuracy\")\n",
        "plt.savefig(\"data7\")\n",
        "plt.show()"
      ],
      "execution_count": 0,
      "outputs": [
        {
          "output_type": "display_data",
          "data": {
            "image/png": "[encoded data removed]",
            "text/plain": [
              "<Figure size 432x288 with 1 Axes>"
            ]
          },
          "metadata": {
            "tags": []
          }
        }
      ]
    },
    {
      "cell_type": "markdown",
      "metadata": {
        "id": "_MNMrMsJPquo",
        "colab_type": "text"
      },
      "source": [
        "#Plot Model loss by different mini batch size"
      ]
    },
    {
      "cell_type": "code",
      "metadata": {
        "id": "0KkihhnkPr1W",
        "colab_type": "code",
        "outputId": "fcddf7ce-f65c-4c04-ed1e-0026d3299131",
        "colab": {
          "base_uri": "https://localhost:8080/",
          "height": 295
        }
      },
      "source": [
        "fig, ax = plt.subplots()\n",
        "\n",
        "\n",
        "ax.plot(epoch,loss_size200,'k',label=\"loss with size 200\",color=\"red\")\n",
        "\n",
        "ax.plot(epoch,loss_size32,'k',label=\"loss with size 32\",color=\"green\")\n",
        "\n",
        "\n",
        "ax.plot(epoch,loss_size512,'k',label=\"loss with size 500\",color=\"orange\")\n",
        "for axis in [ax.xaxis, ax.yaxis]:\n",
        "    axis.set_major_locator(ticker.MaxNLocator(integer=True))\n",
        "\n",
        "\n",
        "legend = ax.legend(loc='upper center',shadow=True, fontsize='x-large')\n",
        "\n",
        "legend.get_frame().set_facecolor('C0')\n",
        "\n",
        "plt.xlabel(\"epoch\")\n",
        "plt.ylabel(\"loss\")\n",
        "plt.title(\"epoch vs loss\")\n",
        "plt.savefig(\"data8\")\n",
        "plt.show()"
      ],
      "execution_count": 0,
      "outputs": [
        {
          "output_type": "display_data",
          "data": {
            "image/png": "[encoded data removed]",
            "text/plain": [
              "<Figure size 432x288 with 1 Axes>"
            ]
          },
          "metadata": {
            "tags": []
          }
        }
      ]
    },
    {
      "cell_type": "markdown",
      "metadata": {
        "colab_type": "text",
        "id": "ZRpILGqjRlZ8"
      },
      "source": [
        "# Plot Model Accuracy by using weight decay"
      ]
    },
    {
      "cell_type": "code",
      "metadata": {
        "colab_type": "code",
        "id": "RxilfPeSRl88",
        "outputId": "ef61958b-081f-469b-a031-62bc851f4794",
        "colab": {
          "base_uri": "https://localhost:8080/",
          "height": 221
        }
      },
      "source": [
        "%%time\n",
        "'''Initialise the proposed neural network'''\n",
        "nn = MLP([128,256,512,128,10],['relu','relu','relu','relu','softmax'],mini_batch_size=200)\n",
        "\n",
        "'''Fit data to train the model'''\n",
        "loss_weightDecay, accuracy_weightDecay= nn.fit(x_train, y_train, x_test, y_test, learning_rate=0.01, beta=0.9, epochs=10, optimizer=\"momentum\", dropout=1,weightDecay=\"True\", batchNorm='yes') "
      ],
      "execution_count": 0,
      "outputs": [
        {
          "output_type": "stream",
          "text": [
            "Epoch: 1\t| Test Accuracy: 86.05% | Train Accuracy: 87.23% | Loss: 1.4682\n",
            "Epoch: 2\t| Test Accuracy: 87.18% | Train Accuracy: 88.64% | Loss: 0.7739\n",
            "Epoch: 3\t| Test Accuracy: 87.97% | Train Accuracy: 89.76% | Loss: 0.6324\n",
            "Epoch: 4\t| Test Accuracy: 87.92% | Train Accuracy: 90.68% | Loss: 0.5884\n",
            "Epoch: 5\t| Test Accuracy: 88.38% | Train Accuracy: 91.36% | Loss: 0.5541\n",
            "Epoch: 6\t| Test Accuracy: 88.53% | Train Accuracy: 92.10% | Loss: 0.5511\n",
            "Epoch: 7\t| Test Accuracy: 88.83% | Train Accuracy: 92.63% | Loss: 0.4549\n",
            "Epoch: 8\t| Test Accuracy: 88.85% | Train Accuracy: 93.24% | Loss: 0.4628\n",
            "Epoch: 9\t| Test Accuracy: 88.82% | Train Accuracy: 93.59% | Loss: 0.4132\n",
            "Epoch: 10\t| Test Accuracy: 88.71% | Train Accuracy: 93.78% | Loss: 0.3892\n",
            "CPU times: user 3min 21s, sys: 1min 14s, total: 4min 36s\n",
            "Wall time: 2min 19s\n"
          ],
          "name": "stdout"
        }
      ]
    },
    {
      "cell_type": "code",
      "metadata": {
        "id": "2thnXsHmcRWo",
        "colab_type": "code",
        "outputId": "0cdede98-2888-47de-c8f8-3df1c0321f5b",
        "colab": {
          "base_uri": "https://localhost:8080/",
          "height": 295
        }
      },
      "source": [
        "fig, ax = plt.subplots()\n",
        "ax.plot(epoch,accuracy_size200,'k',label=\"accuracy with size 200\",color=\"red\")\n",
        "ax.plot(epoch,accuracy_weightDecay,'k',label=\"accuracy with weightDecay\",color=\"blue\")\n",
        "\n",
        "for axis in [ax.xaxis, ax.yaxis]:\n",
        "    axis.set_major_locator(ticker.MaxNLocator(integer=True))\n",
        "\n",
        "\n",
        "legend = ax.legend(loc='center',shadow=True, fontsize='x-large')\n",
        "\n",
        "legend.get_frame().set_facecolor('C0')\n",
        "\n",
        "plt.xlabel(\"epoch\")\n",
        "plt.ylabel(\"accuracy\")\n",
        "plt.title(\"epoch vs accuracy\")\n",
        "plt.savefig(\"data9\")\n",
        "plt.show()"
      ],
      "execution_count": 0,
      "outputs": [
        {
          "output_type": "display_data",
          "data": {
            "image/png": "[encoded data removed]",
            "text/plain": [
              "<Figure size 432x288 with 1 Axes>"
            ]
          },
          "metadata": {
            "tags": []
          }
        }
      ]
    },
    {
      "cell_type": "code",
      "metadata": {
        "id": "AhWSraatb-LR",
        "colab_type": "code",
        "outputId": "4bfefc8c-db0c-47ee-8e50-0f788a0d244a",
        "colab": {
          "base_uri": "https://localhost:8080/",
          "height": 295
        }
      },
      "source": [
        "fig, ax = plt.subplots()\n",
        "ax.plot(epoch,loss_size200,'k',label=\"loss with size 200\",color=\"red\")\n",
        "ax.plot(epoch,loss_weightDecay,'k',label=\"loss with weightDecay\",color=\"blue\")\n",
        "\n",
        "for axis in [ax.xaxis, ax.yaxis]:\n",
        "    axis.set_major_locator(ticker.MaxNLocator(integer=True))\n",
        "\n",
        "\n",
        "legend = ax.legend(loc='upper center',shadow=True, fontsize='x-large')\n",
        "\n",
        "legend.get_frame().set_facecolor('C0')\n",
        "\n",
        "plt.xlabel(\"epoch\")\n",
        "plt.ylabel(\"loss\")\n",
        "plt.title(\"epoch vs loss\")\n",
        "plt.savefig(\"data10\")\n",
        "plt.show()"
      ],
      "execution_count": 0,
      "outputs": [
        {
          "output_type": "display_data",
          "data": {
            "image/png": "[encoded data removed]",
            "text/plain": [
              "<Figure size 432x288 with 1 Axes>"
            ]
          },
          "metadata": {
            "tags": []
          }
        }
      ]
    },
    {
      "cell_type": "markdown",
      "metadata": {
        "colab_type": "text",
        "id": "sLqlrb52Rmln"
      },
      "source": [
        "#Plot Model time by using Batch Normalization"
      ]
    },
    {
      "cell_type": "code",
      "metadata": {
        "colab_type": "code",
        "id": "-TNr0AX3Rniy",
        "outputId": "2a85d1e8-00a4-4897-e559-50f5dad959c2",
        "colab": {
          "base_uri": "https://localhost:8080/",
          "height": 221
        }
      },
      "source": [
        "%%time\n",
        "'''Initialise the proposed neural network'''\n",
        "nn = MLP([128,256,512,128,10],['relu','relu','relu','relu','softmax'],mini_batch_size=200)\n",
        "\n",
        "'''Fit data to train the model'''\n",
        "loss_nonorm, accuracy_nonorm= nn.fit(x_train, y_train, x_test, y_test, learning_rate=0.01, beta=0.9, epochs=10, optimizer=\"momentum\", dropout=1,weightDecay=\"False\", batchNorm='no') "
      ],
      "execution_count": 0,
      "outputs": [
        {
          "output_type": "stream",
          "text": [
            "Epoch: 1\t| Test Accuracy: 85.35% | Train Accuracy: 86.44% | Loss: 1.4505\n",
            "Epoch: 2\t| Test Accuracy: 86.92% | Train Accuracy: 88.48% | Loss: 0.7952\n",
            "Epoch: 3\t| Test Accuracy: 88.02% | Train Accuracy: 89.93% | Loss: 0.7015\n",
            "Epoch: 4\t| Test Accuracy: 88.02% | Train Accuracy: 90.79% | Loss: 0.6165\n",
            "Epoch: 5\t| Test Accuracy: 88.44% | Train Accuracy: 91.34% | Loss: 0.5353\n",
            "Epoch: 6\t| Test Accuracy: 88.15% | Train Accuracy: 91.86% | Loss: 0.5167\n",
            "Epoch: 7\t| Test Accuracy: 88.53% | Train Accuracy: 92.31% | Loss: 0.4806\n",
            "Epoch: 8\t| Test Accuracy: 88.72% | Train Accuracy: 92.87% | Loss: 0.4569\n",
            "Epoch: 9\t| Test Accuracy: 88.73% | Train Accuracy: 93.14% | Loss: 0.4354\n",
            "Epoch: 10\t| Test Accuracy: 88.85% | Train Accuracy: 93.77% | Loss: 0.3859\n",
            "CPU times: user 3min 27s, sys: 1min 16s, total: 4min 43s\n",
            "Wall time: 2min 22s\n"
          ],
          "name": "stdout"
        }
      ]
    },
    {
      "cell_type": "code",
      "metadata": {
        "colab_type": "code",
        "outputId": "9509595f-4aac-4239-c378-cc926d4d0186",
        "id": "-BvRtlYEfO-z",
        "colab": {
          "base_uri": "https://localhost:8080/",
          "height": 295
        }
      },
      "source": [
        "fig, ax = plt.subplots()\n",
        "ax.plot(epoch,loss_size200,'k',label=\"loss with size 200\",color=\"red\")\n",
        "ax.plot(epoch,loss_nonorm,'k',label=\"loss with no batch normalization\",color=\"blue\")\n",
        "\n",
        "for axis in [ax.xaxis, ax.yaxis]:\n",
        "    axis.set_major_locator(ticker.MaxNLocator(integer=True))\n",
        "\n",
        "\n",
        "legend = ax.legend(loc='upper center',shadow=True, fontsize='x-large')\n",
        "\n",
        "legend.get_frame().set_facecolor('C0')\n",
        "\n",
        "plt.xlabel(\"epoch\")\n",
        "plt.ylabel(\"loss\")\n",
        "plt.title(\"epoch vs loss\")\n",
        "plt.savefig(\"data11\")\n",
        "plt.show()"
      ],
      "execution_count": 0,
      "outputs": [
        {
          "output_type": "display_data",
          "data": {
            "image/png": "[encoded data removed]",
            "text/plain": [
              "<Figure size 432x288 with 1 Axes>"
            ]
          },
          "metadata": {
            "tags": []
          }
        }
      ]
    },
    {
      "cell_type": "markdown",
      "metadata": {
        "colab_type": "text",
        "id": "omJA8oOvRoZT"
      },
      "source": [
        "# Plot Model Accuracy by using Batch Normalization"
      ]
    },
    {
      "cell_type": "code",
      "metadata": {
        "colab_type": "code",
        "id": "GWgmwm-dRovZ",
        "outputId": "67d37de3-42ab-4662-9216-07e69e366581",
        "colab": {
          "base_uri": "https://localhost:8080/",
          "height": 295
        }
      },
      "source": [
        "fig, ax = plt.subplots()\n",
        "ax.plot(epoch,accuracy_size200,'k',label=\"accuracy with size 200\",color=\"red\")\n",
        "ax.plot(epoch,accuracy_nonorm,'k',label=\"accuracy with no batch normalization\",color=\"blue\")\n",
        "\n",
        "for axis in [ax.xaxis, ax.yaxis]:\n",
        "    axis.set_major_locator(ticker.MaxNLocator(integer=True))\n",
        "\n",
        "\n",
        "legend = ax.legend(loc='center',shadow=True, fontsize='x-large')\n",
        "\n",
        "legend.get_frame().set_facecolor('C0')\n",
        "\n",
        "plt.xlabel(\"epoch\")\n",
        "plt.ylabel(\"accuracy\")\n",
        "plt.title(\"epoch vs accuracy\")\n",
        "plt.savefig(\"data12\")\n",
        "plt.show()"
      ],
      "execution_count": 0,
      "outputs": [
        {
          "output_type": "display_data",
          "data": {
            "image/png": "[encoded data removed]",
            "text/plain": [
              "<Figure size 432x288 with 1 Axes>"
            ]
          },
          "metadata": {
            "tags": []
          }
        }
      ]
    },
    {
      "cell_type": "markdown",
      "metadata": {
        "id": "ObpvyQQ4fni3",
        "colab_type": "text"
      },
      "source": [
        "#  Final Model and Result File"
      ]
    },
    {
      "cell_type": "code",
      "metadata": {
        "id": "yKG5OVoEgTHY",
        "colab_type": "code",
        "outputId": "0fbda1b5-299b-497b-ba41-28e0edeab6a0",
        "colab": {
          "base_uri": "https://localhost:8080/",
          "height": 374
        }
      },
      "source": [
        "%%time\n",
        "\n",
        "\n",
        "'''Define training and test data of ratio 9:1'''\n",
        "# Train\n",
        "x_train = data[0:60000,:]\n",
        "y_train = label[0:60000]\n",
        "# Test\n",
        "x_test = data[48000:60000,:]\n",
        "y_test = label[48000:60000]\n",
        "#accuracy = []\n",
        "'''Initialise the proposed neural network'''\n",
        "nn = MLP([128,256,512,128,10],['relu','relu','relu','relu','softmax'],mini_batch_size=200)\n",
        "\n",
        "'''Fit data to train the model'''\n",
        "loss, accuracy= nn.fit(x_train, y_train, x_test, y_test, learning_rate=0.01, beta=0.9, epochs=19, optimizer='momentum', dropout=1,weightDecay=\"False\", batchNorm='yes') \n",
        "\n"
      ],
      "execution_count": 0,
      "outputs": [
        {
          "output_type": "stream",
          "text": [
            "Epoch: 1\t| Test Accuracy: 87.08% | Train Accuracy: 87.18% | Loss: 1.3308\n",
            "Epoch: 2\t| Test Accuracy: 89.05% | Train Accuracy: 89.23% | Loss: 0.7836\n",
            "Epoch: 3\t| Test Accuracy: 89.63% | Train Accuracy: 89.72% | Loss: 0.6643\n",
            "Epoch: 4\t| Test Accuracy: 90.61% | Train Accuracy: 90.77% | Loss: 0.5992\n",
            "Epoch: 5\t| Test Accuracy: 91.33% | Train Accuracy: 91.17% | Loss: 0.5527\n",
            "Epoch: 6\t| Test Accuracy: 91.58% | Train Accuracy: 91.51% | Loss: 0.5310\n",
            "Epoch: 7\t| Test Accuracy: 92.48% | Train Accuracy: 92.34% | Loss: 0.4655\n",
            "Epoch: 8\t| Test Accuracy: 92.66% | Train Accuracy: 92.81% | Loss: 0.4475\n",
            "Epoch: 9\t| Test Accuracy: 92.59% | Train Accuracy: 92.92% | Loss: 0.4630\n",
            "Epoch: 10\t| Test Accuracy: 93.57% | Train Accuracy: 93.62% | Loss: 0.4043\n",
            "Epoch: 11\t| Test Accuracy: 93.70% | Train Accuracy: 93.91% | Loss: 0.3674\n",
            "Epoch: 12\t| Test Accuracy: 94.46% | Train Accuracy: 94.37% | Loss: 0.3636\n",
            "Epoch: 13\t| Test Accuracy: 94.25% | Train Accuracy: 94.19% | Loss: 0.3311\n",
            "Epoch: 14\t| Test Accuracy: 94.88% | Train Accuracy: 94.84% | Loss: 0.2964\n",
            "Epoch: 15\t| Test Accuracy: 95.60% | Train Accuracy: 95.33% | Loss: 0.2848\n",
            "Epoch: 16\t| Test Accuracy: 95.49% | Train Accuracy: 95.36% | Loss: 0.2671\n",
            "Epoch: 17\t| Test Accuracy: 95.83% | Train Accuracy: 95.69% | Loss: 0.2710\n",
            "Epoch: 18\t| Test Accuracy: 95.93% | Train Accuracy: 95.62% | Loss: 0.2183\n",
            "Epoch: 19\t| Test Accuracy: 95.38% | Train Accuracy: 95.82% | Loss: 0.2486\n",
            "CPU times: user 7min 55s, sys: 2min 55s, total: 10min 50s\n",
            "Wall time: 5min 27s\n"
          ],
          "name": "stdout"
        }
      ]
    },
    {
      "cell_type": "code",
      "metadata": {
        "id": "DxOoE47YgUEg",
        "colab_type": "code",
        "outputId": "5a0eee4e-68bf-4261-9244-91e9cdb8fb4f",
        "colab": {
          "base_uri": "https://localhost:8080/",
          "height": 34
        }
      },
      "source": [
        "test_label = nn.predict(test_data)\n",
        "test_label = np.argmax(test_label,axis=1)\n",
        "print(test_label)"
      ],
      "execution_count": 0,
      "outputs": [
        {
          "output_type": "stream",
          "text": [
            "[9 2 1 ... 8 1 5]\n"
          ],
          "name": "stdout"
        }
      ]
    },
    {
      "cell_type": "code",
      "metadata": {
        "id": "dzKNKTXhlSK6",
        "colab_type": "code",
        "colab": {}
      },
      "source": [
        "# write to h5 file\n",
        "with h5py.File('predicted.labels.h5', 'w') as hdf:\n",
        "  hdf.create_dataset('label', data=test_label)\n",
        "  \n",
        "with h5py.File('predicted.labels.h5','r') as H:\n",
        "     pred = np.copy(H['label'])\n"
      ],
      "execution_count": 0,
      "outputs": []
    },
    {
      "cell_type": "code",
      "metadata": {
        "id": "0IbPv1spnN80",
        "colab_type": "code",
        "outputId": "4dc4e2e0-90d2-47d5-87fc-ad7598d61172",
        "colab": {
          "base_uri": "https://localhost:8080/",
          "height": 34
        }
      },
      "source": [
        "with h5py.File('predicted.labels.h5','r') as H: \n",
        "  final_test_labels = np.copy(H['label'])\n",
        "print(final_test_labels)"
      ],
      "execution_count": 0,
      "outputs": [
        {
          "output_type": "stream",
          "text": [
            "[9 2 1 ... 8 1 5]\n"
          ],
          "name": "stdout"
        }
      ]
    }
  ]
}